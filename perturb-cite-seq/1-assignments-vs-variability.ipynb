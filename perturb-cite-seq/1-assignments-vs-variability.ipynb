{
 "cells": [
  {
   "cell_type": "code",
   "execution_count": 1,
   "metadata": {},
   "outputs": [],
   "source": [
    "import scanpy as sc\n",
    "import pandas as pd\n",
    "import numpy as np\n",
    "import scipy.sparse as sp\n",
    "from tqdm.notebook import tqdm\n",
    "import matplotlib.pyplot as plt "
   ]
  },
  {
   "cell_type": "markdown",
   "metadata": {},
   "source": [
    "## Step 1: Load data, clean up / process"
   ]
  },
  {
   "cell_type": "code",
   "execution_count": 2,
   "metadata": {},
   "outputs": [],
   "source": [
    "LOCAL_PATH = '/home/jcbowden/ci_stat256/data/'"
   ]
  },
  {
   "cell_type": "code",
   "execution_count": 3,
   "metadata": {},
   "outputs": [
    {
     "name": "stdout",
     "output_type": "stream",
     "text": [
      "CPU times: user 927 ms, sys: 4.95 s, total: 5.87 s\n",
      "Wall time: 15.9 s\n"
     ]
    },
    {
     "data": {
      "text/plain": [
       "array([2., 1., 1., ..., 2., 1., 1.])"
      ]
     },
     "execution_count": 3,
     "metadata": {},
     "output_type": "execute_result"
    }
   ],
   "source": [
    "%%time \n",
    "adata = sc.read_h5ad(LOCAL_PATH+\"SCP1064/other/adata.h5ad\")\n",
    "adata.X.data"
   ]
  },
  {
   "cell_type": "code",
   "execution_count": 4,
   "metadata": {},
   "outputs": [],
   "source": [
    "sc.pp.filter_cells(adata, min_genes=0)\n",
    "sc.pp.filter_genes(adata, min_cells=0)"
   ]
  },
  {
   "cell_type": "code",
   "execution_count": 5,
   "metadata": {},
   "outputs": [
    {
     "data": {
      "text/plain": [
       "(304, 8376)"
      ]
     },
     "execution_count": 5,
     "metadata": {},
     "output_type": "execute_result"
    }
   ],
   "source": [
    "(adata.obs[\"n_genes\"] < 500).sum(), (adata.var[\"n_cells\"] < 500).sum()"
   ]
  },
  {
   "cell_type": "code",
   "execution_count": 6,
   "metadata": {},
   "outputs": [],
   "source": [
    "sc.pp.filter_cells(adata, min_genes=500)\n",
    "sc.pp.filter_genes(adata, min_cells=500)"
   ]
  },
  {
   "cell_type": "code",
   "execution_count": 7,
   "metadata": {},
   "outputs": [],
   "source": [
    "adata.layers[\"counts\"] = adata.X.copy()\n",
    "sc.pp.normalize_total(adata, target_sum=1e5)\n",
    "sc.pp.log1p(adata)"
   ]
  },
  {
   "cell_type": "code",
   "execution_count": 35,
   "metadata": {},
   "outputs": [
    {
     "data": {
      "text/plain": [
       "<218027x15335 sparse matrix of type '<class 'numpy.float64'>'\n",
       "\twith 739608339 stored elements in Compressed Sparse Row format>"
      ]
     },
     "execution_count": 35,
     "metadata": {},
     "output_type": "execute_result"
    }
   ],
   "source": [
    "adata.X # this is the matrix of counts, N by n_genes_measured (total)"
   ]
  },
  {
   "cell_type": "code",
   "execution_count": 8,
   "metadata": {},
   "outputs": [
    {
     "data": {
      "text/html": [
       "<div>\n",
       "<style scoped>\n",
       "    .dataframe tbody tr th:only-of-type {\n",
       "        vertical-align: middle;\n",
       "    }\n",
       "\n",
       "    .dataframe tbody tr th {\n",
       "        vertical-align: top;\n",
       "    }\n",
       "\n",
       "    .dataframe thead th {\n",
       "        text-align: right;\n",
       "    }\n",
       "</style>\n",
       "<table border=\"1\" class=\"dataframe\">\n",
       "  <thead>\n",
       "    <tr style=\"text-align: right;\">\n",
       "      <th></th>\n",
       "      <th>library_preparation_protocol</th>\n",
       "      <th>condition</th>\n",
       "      <th>MOI</th>\n",
       "      <th>sgRNA</th>\n",
       "      <th>UMI_count</th>\n",
       "      <th>sgRNAs</th>\n",
       "      <th>n_genes</th>\n",
       "    </tr>\n",
       "    <tr>\n",
       "      <th>NAME</th>\n",
       "      <th></th>\n",
       "      <th></th>\n",
       "      <th></th>\n",
       "      <th></th>\n",
       "      <th></th>\n",
       "      <th></th>\n",
       "      <th></th>\n",
       "    </tr>\n",
       "  </thead>\n",
       "  <tbody>\n",
       "    <tr>\n",
       "      <th>CELL_1</th>\n",
       "      <td>10X 3' v3 sequencing</td>\n",
       "      <td>Control</td>\n",
       "      <td>1</td>\n",
       "      <td>HLA-B_2</td>\n",
       "      <td>10832.0</td>\n",
       "      <td>HLA-B_2</td>\n",
       "      <td>3520</td>\n",
       "    </tr>\n",
       "    <tr>\n",
       "      <th>CELL_2</th>\n",
       "      <td>10X 3' v3 sequencing</td>\n",
       "      <td>Control</td>\n",
       "      <td>2</td>\n",
       "      <td>NaN</td>\n",
       "      <td>10731.0</td>\n",
       "      <td>NGFR_3,SERPINF1_3</td>\n",
       "      <td>3531</td>\n",
       "    </tr>\n",
       "    <tr>\n",
       "      <th>CELL_3</th>\n",
       "      <td>10X 3' v3 sequencing</td>\n",
       "      <td>Control</td>\n",
       "      <td>1</td>\n",
       "      <td>HLA-B_2</td>\n",
       "      <td>28821.0</td>\n",
       "      <td>HLA-B_2</td>\n",
       "      <td>5541</td>\n",
       "    </tr>\n",
       "    <tr>\n",
       "      <th>CELL_4</th>\n",
       "      <td>10X 3' v3 sequencing</td>\n",
       "      <td>Control</td>\n",
       "      <td>2</td>\n",
       "      <td>NaN</td>\n",
       "      <td>15322.0</td>\n",
       "      <td>NMRK1_3,S100A6_3</td>\n",
       "      <td>4086</td>\n",
       "    </tr>\n",
       "    <tr>\n",
       "      <th>CELL_5</th>\n",
       "      <td>10X 3' v3 sequencing</td>\n",
       "      <td>Control</td>\n",
       "      <td>0</td>\n",
       "      <td>NaN</td>\n",
       "      <td>10314.0</td>\n",
       "      <td></td>\n",
       "      <td>3178</td>\n",
       "    </tr>\n",
       "    <tr>\n",
       "      <th>...</th>\n",
       "      <td>...</td>\n",
       "      <td>...</td>\n",
       "      <td>...</td>\n",
       "      <td>...</td>\n",
       "      <td>...</td>\n",
       "      <td>...</td>\n",
       "      <td>...</td>\n",
       "    </tr>\n",
       "    <tr>\n",
       "      <th>CELL_218327</th>\n",
       "      <td>10X 3' v3 sequencing</td>\n",
       "      <td>Co-culture</td>\n",
       "      <td>4</td>\n",
       "      <td>NaN</td>\n",
       "      <td>12722.0</td>\n",
       "      <td>CTSO_3,PIK3IP1_3,VDAC2_2,WNT7A_1</td>\n",
       "      <td>3686</td>\n",
       "    </tr>\n",
       "    <tr>\n",
       "      <th>CELL_218328</th>\n",
       "      <td>10X 3' v3 sequencing</td>\n",
       "      <td>Co-culture</td>\n",
       "      <td>2</td>\n",
       "      <td>NaN</td>\n",
       "      <td>11643.0</td>\n",
       "      <td>JAK2_3,SLC7A5P1_3</td>\n",
       "      <td>3462</td>\n",
       "    </tr>\n",
       "    <tr>\n",
       "      <th>CELL_218329</th>\n",
       "      <td>10X 3' v3 sequencing</td>\n",
       "      <td>Co-culture</td>\n",
       "      <td>3</td>\n",
       "      <td>NaN</td>\n",
       "      <td>12497.0</td>\n",
       "      <td>S100A6_2,SAT1_2,ONE_NON-GENE_SITE_177</td>\n",
       "      <td>3768</td>\n",
       "    </tr>\n",
       "    <tr>\n",
       "      <th>CELL_218330</th>\n",
       "      <td>10X 3' v3 sequencing</td>\n",
       "      <td>Co-culture</td>\n",
       "      <td>1</td>\n",
       "      <td>CDKN2B_3</td>\n",
       "      <td>17941.0</td>\n",
       "      <td>CDKN2B_3</td>\n",
       "      <td>4158</td>\n",
       "    </tr>\n",
       "    <tr>\n",
       "      <th>CELL_218331</th>\n",
       "      <td>10X 3' v3 sequencing</td>\n",
       "      <td>Co-culture</td>\n",
       "      <td>1</td>\n",
       "      <td>NO_SITE_694</td>\n",
       "      <td>7968.0</td>\n",
       "      <td>NO_SITE_694</td>\n",
       "      <td>2888</td>\n",
       "    </tr>\n",
       "  </tbody>\n",
       "</table>\n",
       "<p>218027 rows × 7 columns</p>\n",
       "</div>"
      ],
      "text/plain": [
       "            library_preparation_protocol   condition  MOI        sgRNA  \\\n",
       "NAME                                                                     \n",
       "CELL_1              10X 3' v3 sequencing     Control    1      HLA-B_2   \n",
       "CELL_2              10X 3' v3 sequencing     Control    2          NaN   \n",
       "CELL_3              10X 3' v3 sequencing     Control    1      HLA-B_2   \n",
       "CELL_4              10X 3' v3 sequencing     Control    2          NaN   \n",
       "CELL_5              10X 3' v3 sequencing     Control    0          NaN   \n",
       "...                                  ...         ...  ...          ...   \n",
       "CELL_218327         10X 3' v3 sequencing  Co-culture    4          NaN   \n",
       "CELL_218328         10X 3' v3 sequencing  Co-culture    2          NaN   \n",
       "CELL_218329         10X 3' v3 sequencing  Co-culture    3          NaN   \n",
       "CELL_218330         10X 3' v3 sequencing  Co-culture    1     CDKN2B_3   \n",
       "CELL_218331         10X 3' v3 sequencing  Co-culture    1  NO_SITE_694   \n",
       "\n",
       "             UMI_count                                 sgRNAs  n_genes  \n",
       "NAME                                                                    \n",
       "CELL_1         10832.0                                HLA-B_2     3520  \n",
       "CELL_2         10731.0                      NGFR_3,SERPINF1_3     3531  \n",
       "CELL_3         28821.0                                HLA-B_2     5541  \n",
       "CELL_4         15322.0                       NMRK1_3,S100A6_3     4086  \n",
       "CELL_5         10314.0                                            3178  \n",
       "...                ...                                    ...      ...  \n",
       "CELL_218327    12722.0       CTSO_3,PIK3IP1_3,VDAC2_2,WNT7A_1     3686  \n",
       "CELL_218328    11643.0                      JAK2_3,SLC7A5P1_3     3462  \n",
       "CELL_218329    12497.0  S100A6_2,SAT1_2,ONE_NON-GENE_SITE_177     3768  \n",
       "CELL_218330    17941.0                               CDKN2B_3     4158  \n",
       "CELL_218331     7968.0                            NO_SITE_694     2888  \n",
       "\n",
       "[218027 rows x 7 columns]"
      ]
     },
     "execution_count": 8,
     "metadata": {},
     "output_type": "execute_result"
    }
   ],
   "source": [
    "# make sure we can match sgRNAs back to the genes\n",
    "adata.obs"
   ]
  },
  {
   "cell_type": "code",
   "execution_count": 9,
   "metadata": {},
   "outputs": [
    {
     "data": {
      "application/json": {
       "ascii": false,
       "bar_format": null,
       "colour": null,
       "elapsed": 0.0037336349487304688,
       "initial": 0,
       "n": 0,
       "ncols": null,
       "nrows": null,
       "postfix": null,
       "prefix": "",
       "rate": null,
       "total": 218027,
       "unit": "it",
       "unit_divisor": 1000,
       "unit_scale": false
      },
      "application/vnd.jupyter.widget-view+json": {
       "model_id": "1f4d43120cf74d90bada870c598f9baa",
       "version_major": 2,
       "version_minor": 0
      },
      "text/plain": [
       "  0%|          | 0/218027 [00:00<?, ?it/s]"
      ]
     },
     "metadata": {},
     "output_type": "display_data"
    }
   ],
   "source": [
    "# check if the field MOI has some irregularities, such that a truncated guide or a wrong number\n",
    "ind = []\n",
    "for index, row in tqdm(adata.obs.iterrows(), total=adata.n_obs):\n",
    "    flag = False\n",
    "    if row[\"sgRNAs\"] != \"\":\n",
    "        guides = row[\"sgRNAs\"].split(\",\")\n",
    "        if len(guides) != row[\"MOI\"]:\n",
    "            flag = True\n",
    "        if \"_\" not in guides[-1]:\n",
    "            flag = True\n",
    "    if flag:\n",
    "        ind += [index]"
   ]
  },
  {
   "cell_type": "code",
   "execution_count": 10,
   "metadata": {},
   "outputs": [
    {
     "data": {
      "text/plain": [
       "[]"
      ]
     },
     "execution_count": 10,
     "metadata": {},
     "output_type": "execute_result"
    }
   ],
   "source": [
    "# empty!!\n",
    "ind"
   ]
  },
  {
   "cell_type": "code",
   "execution_count": 11,
   "metadata": {},
   "outputs": [
    {
     "data": {
      "application/json": {
       "ascii": false,
       "bar_format": null,
       "colour": null,
       "elapsed": 0.011643409729003906,
       "initial": 0,
       "n": 0,
       "ncols": null,
       "nrows": null,
       "postfix": null,
       "prefix": "",
       "rate": null,
       "total": 218027,
       "unit": "it",
       "unit_divisor": 1000,
       "unit_scale": false
      },
      "application/vnd.jupyter.widget-view+json": {
       "model_id": "c3a6356f442c4c04b39ccf10281380f6",
       "version_major": 2,
       "version_minor": 0
      },
      "text/plain": [
       "  0%|          | 0/218027 [00:00<?, ?it/s]"
      ]
     },
     "metadata": {},
     "output_type": "display_data"
    }
   ],
   "source": [
    "# check gene sets and ensure matching with measurements\n",
    "err = 0\n",
    "ind = []\n",
    "obs_genes = {}\n",
    "unfound_genes = {}\n",
    "targets = []\n",
    "for index, row in tqdm(adata.obs.iterrows(), total=adata.n_obs):\n",
    "    current_target = []\n",
    "    if row[\"sgRNAs\"] != \"\":\n",
    "        # get all guides in cells\n",
    "        sg = row[\"sgRNAs\"].split(\",\")\n",
    "        # get gene name by stripping guide specific info\n",
    "        sg_genes = [guide.rsplit(\"_\", maxsplit=1)[0] for guide in sg]\n",
    "        for gene in sg_genes:\n",
    "            if gene in adata.var.index:\n",
    "                # gene is found\n",
    "                current_target += [gene]\n",
    "                if gene not in obs_genes:\n",
    "                    obs_genes[gene] = 1\n",
    "                else:\n",
    "                    obs_genes[gene] += 1\n",
    "            else:\n",
    "                if gene not in unfound_genes:\n",
    "                    unfound_genes[gene] = 1\n",
    "                else:\n",
    "                    unfound_genes[gene] += 1\n",
    "    # end gene list\n",
    "    targets += [\",\".join(current_target)]"
   ]
  },
  {
   "cell_type": "code",
   "execution_count": 12,
   "metadata": {},
   "outputs": [],
   "source": [
    "# create regimes\n",
    "regimes = np.unique(targets, return_inverse=True)[1]"
   ]
  },
  {
   "cell_type": "code",
   "execution_count": 13,
   "metadata": {},
   "outputs": [],
   "source": [
    "adata.obs[\"targets\"] = targets\n",
    "adata.obs[\"regimes\"] = regimes"
   ]
  },
  {
   "cell_type": "code",
   "execution_count": 14,
   "metadata": {},
   "outputs": [
    {
     "data": {
      "text/plain": [
       "220"
      ]
     },
     "execution_count": 14,
     "metadata": {},
     "output_type": "execute_result"
    }
   ],
   "source": [
    "len(obs_genes.keys())"
   ]
  },
  {
   "cell_type": "code",
   "execution_count": 15,
   "metadata": {},
   "outputs": [
    {
     "data": {
      "text/plain": [
       "dict_keys(['NGFR', 'SERPINF1', 'CSPG4', 'PIK3IP1', 'ONE_NON-GENE_SITE', 'NO_SITE', 'NUP50-AS1', 'IDI2-AS1', 'CXCR4', 'JMJD7', 'TYR', 'BOLA2', 'LRRC75A-AS1', 'LINC00518', 'APOD', 'A2M', 'LEF1-AS1', 'SLC7A5P1', 'SERPINA3', 'WNT7A', 'GAS5', 'IRF4', 'APOC2', 'XAGE1A', 'CCND2', 'CDH19', 'ST6GALNAC2', 'S100B', 'HLA-H', 'SNHG6'])"
      ]
     },
     "execution_count": 15,
     "metadata": {},
     "output_type": "execute_result"
    }
   ],
   "source": [
    "# some leftover genes I couldn't match\n",
    "unfound_genes.keys()"
   ]
  },
  {
   "cell_type": "markdown",
   "metadata": {
    "jp-MarkdownHeadingCollapsed": true
   },
   "source": [
    "## Step 2: comparing variability of gene expression to guide ID"
   ]
  },
  {
   "cell_type": "code",
   "execution_count": 19,
   "metadata": {},
   "outputs": [
    {
     "name": "stdout",
     "output_type": "stream",
     "text": [
      "CPU times: user 19.8 s, sys: 20.9 s, total: 40.7 s\n",
      "Wall time: 41.2 s\n"
     ]
    }
   ],
   "source": [
    "%%time\n",
    "sc.pp.highly_variable_genes(adata, layer=\"counts\", flavor='seurat_v3', n_top_genes=3000 , span=0.2)"
   ]
  },
  {
   "cell_type": "markdown",
   "metadata": {},
   "source": [
    "highly variable = \"significantly higher variance\" -- though this is unclear since you specify how many. \n",
    "In reality, it seems like it just picks the `n` (3000 in this case) genes with highest variance (relative to mean), no?\n",
    "This is the threshold you see in the below plot. \n",
    "\n",
    "In general, this is used to identify genes that are\n",
    "likely interesting in your data since they, well, vary a lot across different \"treatments\"."
   ]
  },
  {
   "cell_type": "code",
   "execution_count": 20,
   "metadata": {},
   "outputs": [
    {
     "data": {
      "text/html": [
       "<div>\n",
       "<style scoped>\n",
       "    .dataframe tbody tr th:only-of-type {\n",
       "        vertical-align: middle;\n",
       "    }\n",
       "\n",
       "    .dataframe tbody tr th {\n",
       "        vertical-align: top;\n",
       "    }\n",
       "\n",
       "    .dataframe thead th {\n",
       "        text-align: right;\n",
       "    }\n",
       "</style>\n",
       "<table border=\"1\" class=\"dataframe\">\n",
       "  <thead>\n",
       "    <tr style=\"text-align: right;\">\n",
       "      <th></th>\n",
       "      <th>n_cells</th>\n",
       "      <th>highly_variable</th>\n",
       "      <th>highly_variable_rank</th>\n",
       "      <th>means</th>\n",
       "      <th>variances</th>\n",
       "      <th>variances_norm</th>\n",
       "    </tr>\n",
       "  </thead>\n",
       "  <tbody>\n",
       "    <tr>\n",
       "      <th>A1BG</th>\n",
       "      <td>34703</td>\n",
       "      <td>True</td>\n",
       "      <td>1689.0</td>\n",
       "      <td>0.189256</td>\n",
       "      <td>0.232778</td>\n",
       "      <td>1.069112</td>\n",
       "    </tr>\n",
       "    <tr>\n",
       "      <th>A1BG-AS1</th>\n",
       "      <td>12461</td>\n",
       "      <td>False</td>\n",
       "      <td>NaN</td>\n",
       "      <td>0.060226</td>\n",
       "      <td>0.063213</td>\n",
       "      <td>0.964280</td>\n",
       "    </tr>\n",
       "    <tr>\n",
       "      <th>A4GALT</th>\n",
       "      <td>1537</td>\n",
       "      <td>False</td>\n",
       "      <td>NaN</td>\n",
       "      <td>0.007233</td>\n",
       "      <td>0.007566</td>\n",
       "      <td>0.985149</td>\n",
       "    </tr>\n",
       "    <tr>\n",
       "      <th>AAAS</th>\n",
       "      <td>39657</td>\n",
       "      <td>False</td>\n",
       "      <td>NaN</td>\n",
       "      <td>0.213538</td>\n",
       "      <td>0.241693</td>\n",
       "      <td>0.970792</td>\n",
       "    </tr>\n",
       "    <tr>\n",
       "      <th>AACS</th>\n",
       "      <td>19249</td>\n",
       "      <td>False</td>\n",
       "      <td>NaN</td>\n",
       "      <td>0.094887</td>\n",
       "      <td>0.099974</td>\n",
       "      <td>0.948419</td>\n",
       "    </tr>\n",
       "    <tr>\n",
       "      <th>...</th>\n",
       "      <td>...</td>\n",
       "      <td>...</td>\n",
       "      <td>...</td>\n",
       "      <td>...</td>\n",
       "      <td>...</td>\n",
       "      <td>...</td>\n",
       "    </tr>\n",
       "    <tr>\n",
       "      <th>ZXDB</th>\n",
       "      <td>2581</td>\n",
       "      <td>False</td>\n",
       "      <td>NaN</td>\n",
       "      <td>0.011994</td>\n",
       "      <td>0.012162</td>\n",
       "      <td>0.957151</td>\n",
       "    </tr>\n",
       "    <tr>\n",
       "      <th>ZXDC</th>\n",
       "      <td>14586</td>\n",
       "      <td>False</td>\n",
       "      <td>NaN</td>\n",
       "      <td>0.070569</td>\n",
       "      <td>0.073387</td>\n",
       "      <td>0.947735</td>\n",
       "    </tr>\n",
       "    <tr>\n",
       "      <th>ZYG11B</th>\n",
       "      <td>26023</td>\n",
       "      <td>False</td>\n",
       "      <td>NaN</td>\n",
       "      <td>0.132493</td>\n",
       "      <td>0.144036</td>\n",
       "      <td>0.972143</td>\n",
       "    </tr>\n",
       "    <tr>\n",
       "      <th>ZYX</th>\n",
       "      <td>153542</td>\n",
       "      <td>False</td>\n",
       "      <td>NaN</td>\n",
       "      <td>1.634701</td>\n",
       "      <td>3.017341</td>\n",
       "      <td>0.954339</td>\n",
       "    </tr>\n",
       "    <tr>\n",
       "      <th>ZZEF1</th>\n",
       "      <td>17083</td>\n",
       "      <td>False</td>\n",
       "      <td>NaN</td>\n",
       "      <td>0.083476</td>\n",
       "      <td>0.087635</td>\n",
       "      <td>0.948570</td>\n",
       "    </tr>\n",
       "  </tbody>\n",
       "</table>\n",
       "<p>15335 rows × 6 columns</p>\n",
       "</div>"
      ],
      "text/plain": [
       "          n_cells  highly_variable  highly_variable_rank     means  variances  \\\n",
       "A1BG        34703             True                1689.0  0.189256   0.232778   \n",
       "A1BG-AS1    12461            False                   NaN  0.060226   0.063213   \n",
       "A4GALT       1537            False                   NaN  0.007233   0.007566   \n",
       "AAAS        39657            False                   NaN  0.213538   0.241693   \n",
       "AACS        19249            False                   NaN  0.094887   0.099974   \n",
       "...           ...              ...                   ...       ...        ...   \n",
       "ZXDB         2581            False                   NaN  0.011994   0.012162   \n",
       "ZXDC        14586            False                   NaN  0.070569   0.073387   \n",
       "ZYG11B      26023            False                   NaN  0.132493   0.144036   \n",
       "ZYX        153542            False                   NaN  1.634701   3.017341   \n",
       "ZZEF1       17083            False                   NaN  0.083476   0.087635   \n",
       "\n",
       "          variances_norm  \n",
       "A1BG            1.069112  \n",
       "A1BG-AS1        0.964280  \n",
       "A4GALT          0.985149  \n",
       "AAAS            0.970792  \n",
       "AACS            0.948419  \n",
       "...                  ...  \n",
       "ZXDB            0.957151  \n",
       "ZXDC            0.947735  \n",
       "ZYG11B          0.972143  \n",
       "ZYX             0.954339  \n",
       "ZZEF1           0.948570  \n",
       "\n",
       "[15335 rows x 6 columns]"
      ]
     },
     "execution_count": 20,
     "metadata": {},
     "output_type": "execute_result"
    }
   ],
   "source": [
    "adata.var"
   ]
  },
  {
   "cell_type": "code",
   "execution_count": 37,
   "metadata": {},
   "outputs": [
    {
     "data": {
      "image/png": "[encoded data removed]",
      "text/plain": [
       "<Figure size 640x480 with 1 Axes>"
      ]
     },
     "metadata": {},
     "output_type": "display_data"
    }
   ],
   "source": [
    "plt.scatter(adata.var[\"means\"], adata.var[\"variances\"], c=adata.var[\"highly_variable\"], alpha=0.5)\n",
    "plt.xlabel(\"means\")\n",
    "plt.ylabel(\"variances\")\n",
    "plt.xlim((0, 50))\n",
    "plt.ylim((0, 2000))\n",
    "plt.show()"
   ]
  },
  {
   "cell_type": "code",
   "execution_count": 22,
   "metadata": {},
   "outputs": [],
   "source": [
    "presence = pd.Series(data=np.zeros_like(adata.var[\"means\"]), index=adata.var.index)\n",
    "for gene in list(obs_genes.keys()):\n",
    "    presence[gene] += 1\n",
    "adata.var[\"targeted\"] = presence # this means there's an sgRNA for it -- not totally sure what it means for it to be targeted, though"
   ]
  },
  {
   "cell_type": "code",
   "execution_count": 23,
   "metadata": {},
   "outputs": [
    {
     "data": {
      "image/png": "[encoded data removed]",
      "text/plain": [
       "<Figure size 640x480 with 1 Axes>"
      ]
     },
     "metadata": {},
     "output_type": "display_data"
    }
   ],
   "source": [
    "plt.scatter(adata.var[\"means\"], adata.var[\"variances\"], c=adata.var[\"targeted\"])\n",
    "plt.xlabel(\"means\")\n",
    "plt.ylabel(\"variances\")\n",
    "plt.xlim((0, 50))\n",
    "plt.ylim((0, 2000))\n",
    "plt.show()"
   ]
  },
  {
   "cell_type": "code",
   "execution_count": 24,
   "metadata": {},
   "outputs": [],
   "source": [
    "# adata.write_h5ad(\"SCP1064/other/processed_adata.h5ad\")"
   ]
  },
  {
   "cell_type": "code",
   "execution_count": 25,
   "metadata": {},
   "outputs": [
    {
     "data": {
      "text/plain": [
       "100.0"
      ]
     },
     "execution_count": 25,
     "metadata": {},
     "output_type": "execute_result"
    }
   ],
   "source": [
    "# out of 3000 highly variable genes, and 250 targeted genes, only 96 is in the intersection\n",
    "(adata.var[\"highly_variable\"] * adata.var[\"targeted\"]).sum()\n",
    "# for future reference we probably add all intervened genes and complete with highly variable "
   ]
  },
  {
   "cell_type": "markdown",
   "metadata": {},
   "source": [
    "## Step 3 [optional]: make a small data (subsampling of treatments, as well as gene count readouts)"
   ]
  },
  {
   "cell_type": "code",
   "execution_count": 26,
   "metadata": {},
   "outputs": [
    {
     "data": {
      "text/plain": [
       "array(['Co-culture', 'Control', 'IFNγ'], dtype=object)"
      ]
     },
     "execution_count": 26,
     "metadata": {},
     "output_type": "execute_result"
    }
   ],
   "source": [
    "np.unique(adata.obs.condition.values)"
   ]
  },
  {
   "cell_type": "code",
   "execution_count": 27,
   "metadata": {},
   "outputs": [],
   "source": [
    "# filter genes (1000)\n",
    "to_keep = np.logical_or(adata.var[\"highly_variable_rank\"] < 1500, adata.var[\"targeted\"])\n",
    "adata_gf = adata[:, to_keep].copy()"
   ]
  },
  {
   "cell_type": "code",
   "execution_count": 31,
   "metadata": {},
   "outputs": [],
   "source": [
    "# filter conditions\n",
    "adata_gf[adata_gf.obs.condition == \"Control\"].copy().write_h5ad(LOCAL_PATH+\"SCP1064/ready/control/gene_filtered_adata.h5ad\")\n",
    "adata_gf[adata_gf.obs.condition == \"Co-culture\"].copy().write_h5ad(LOCAL_PATH+\"SCP1064/ready/cocult/gene_filtered_adata.h5ad\")\n",
    "adata_gf[adata_gf.obs.condition == \"IFNγ\"].copy().write_h5ad(LOCAL_PATH+\"SCP1064/ready/ifn/gene_filtered_adata.h5ad\")"
   ]
  },
  {
   "cell_type": "code",
   "execution_count": 32,
   "metadata": {},
   "outputs": [],
   "source": [
    "adata_small = adata_gf[np.random.choice(np.arange(adata.n_obs), size=10000, replace=False)].copy()\n",
    "adata_small.write_h5ad(LOCAL_PATH+\"SCP1064/other/small_adata.h5ad\")"
   ]
  },
  {
   "cell_type": "code",
   "execution_count": 44,
   "metadata": {},
   "outputs": [],
   "source": [
    "adata_tiny = adata_gf[np.random.choice(np.arange(adata.n_obs), size=10, replace=False)].copy()\n",
    "adata_tiny.write_h5ad(LOCAL_PATH+\"SCP1064/other/tiny_adata.h5ad\")"
   ]
  },
  {
   "cell_type": "code",
   "execution_count": 53,
   "metadata": {},
   "outputs": [
    {
     "data": {
      "text/plain": [
       "AnnData object with n_obs × n_vars = 10 × 1657\n",
       "    obs: 'library_preparation_protocol', 'condition', 'MOI', 'sgRNA', 'UMI_count', 'sgRNAs', 'n_genes', 'targets', 'regimes'\n",
       "    var: 'n_cells', 'highly_variable', 'highly_variable_rank', 'means', 'variances', 'variances_norm', 'targeted'\n",
       "    uns: 'log1p', 'hvg'\n",
       "    layers: 'counts'"
      ]
     },
     "execution_count": 53,
     "metadata": {},
     "output_type": "execute_result"
    }
   ],
   "source": [
    "adata_tiny"
   ]
  },
  {
   "cell_type": "code",
   "execution_count": 54,
   "metadata": {},
   "outputs": [
    {
     "data": {
      "text/plain": [
       "<10x1657 sparse matrix of type '<class 'numpy.float64'>'\n",
       "\twith 5535 stored elements in Compressed Sparse Row format>"
      ]
     },
     "execution_count": 54,
     "metadata": {},
     "output_type": "execute_result"
    }
   ],
   "source": [
    "adata_tiny.layers['counts']"
   ]
  },
  {
   "cell_type": "code",
   "execution_count": 56,
   "metadata": {},
   "outputs": [
    {
     "data": {
      "image/png": "[encoded data removed]",
      "text/plain": [
       "<Figure size 640x480 with 1 Axes>"
      ]
     },
     "metadata": {},
     "output_type": "display_data"
    }
   ],
   "source": [
    "cnts = adata_tiny.layers['counts'].toarray()\n",
    "plt.hist(cnts.sum(axis=-1)); plt.show()"
   ]
  },
  {
   "cell_type": "code",
   "execution_count": 51,
   "metadata": {},
   "outputs": [
    {
     "data": {
      "text/plain": [
       "AnnData object with n_obs × n_vars = 218027 × 15335\n",
       "    obs: 'library_preparation_protocol', 'condition', 'MOI', 'sgRNA', 'UMI_count', 'sgRNAs', 'n_genes', 'targets', 'regimes'\n",
       "    var: 'n_cells', 'highly_variable', 'highly_variable_rank', 'means', 'variances', 'variances_norm', 'targeted'\n",
       "    uns: 'log1p', 'hvg'\n",
       "    layers: 'counts'"
      ]
     },
     "execution_count": 51,
     "metadata": {},
     "output_type": "execute_result"
    }
   ],
   "source": [
    "adata # original (full) data object; note that this doesn't get resaved in this notebook"
   ]
  },
  {
   "cell_type": "code",
   "execution_count": null,
   "metadata": {},
   "outputs": [],
   "source": []
  },
  {
   "cell_type": "code",
   "execution_count": 4,
   "metadata": {},
   "outputs": [
    {
     "name": "stdout",
     "output_type": "stream",
     "text": [
      "CPU times: user 23.3 ms, sys: 2.72 ms, total: 26 ms\n",
      "Wall time: 37.1 ms\n"
     ]
    },
    {
     "data": {
      "text/plain": [
       "array([2.30243211, 2.30243211, 2.94427794, ..., 3.34920479, 2.31846097,\n",
       "       2.31846097])"
      ]
     },
     "execution_count": 4,
     "metadata": {},
     "output_type": "execute_result"
    }
   ],
   "source": [
    "%%time \n",
    "adata = sc.read_h5ad(LOCAL_PATH+\"SCP1064/other/tiny_adata.h5ad\")\n",
    "adata.X.data"
   ]
  },
  {
   "cell_type": "code",
   "execution_count": 6,
   "metadata": {},
   "outputs": [
    {
     "data": {
      "text/plain": [
       "<10x1657 sparse matrix of type '<class 'numpy.float64'>'\n",
       "\twith 5535 stored elements in Compressed Sparse Row format>"
      ]
     },
     "execution_count": 6,
     "metadata": {},
     "output_type": "execute_result"
    }
   ],
   "source": [
    "adata.X"
   ]
  },
  {
   "cell_type": "code",
   "execution_count": 7,
   "metadata": {},
   "outputs": [
    {
     "data": {
      "text/html": [
       "<div>\n",
       "<style scoped>\n",
       "    .dataframe tbody tr th:only-of-type {\n",
       "        vertical-align: middle;\n",
       "    }\n",
       "\n",
       "    .dataframe tbody tr th {\n",
       "        vertical-align: top;\n",
       "    }\n",
       "\n",
       "    .dataframe thead th {\n",
       "        text-align: right;\n",
       "    }\n",
       "</style>\n",
       "<table border=\"1\" class=\"dataframe\">\n",
       "  <thead>\n",
       "    <tr style=\"text-align: right;\">\n",
       "      <th></th>\n",
       "      <th>n_cells</th>\n",
       "      <th>highly_variable</th>\n",
       "      <th>highly_variable_rank</th>\n",
       "      <th>means</th>\n",
       "      <th>variances</th>\n",
       "      <th>variances_norm</th>\n",
       "      <th>targeted</th>\n",
       "    </tr>\n",
       "  </thead>\n",
       "  <tbody>\n",
       "    <tr>\n",
       "      <th>ABCG2</th>\n",
       "      <td>43098</td>\n",
       "      <td>True</td>\n",
       "      <td>713.0</td>\n",
       "      <td>0.270783</td>\n",
       "      <td>0.412499</td>\n",
       "      <td>1.280399</td>\n",
       "      <td>0.0</td>\n",
       "    </tr>\n",
       "    <tr>\n",
       "      <th>ABHD14B</th>\n",
       "      <td>63330</td>\n",
       "      <td>True</td>\n",
       "      <td>1215.0</td>\n",
       "      <td>0.412132</td>\n",
       "      <td>0.593385</td>\n",
       "      <td>1.130482</td>\n",
       "      <td>0.0</td>\n",
       "    </tr>\n",
       "    <tr>\n",
       "      <th>ABHD17C</th>\n",
       "      <td>34522</td>\n",
       "      <td>True</td>\n",
       "      <td>638.0</td>\n",
       "      <td>0.206818</td>\n",
       "      <td>0.319366</td>\n",
       "      <td>1.328197</td>\n",
       "      <td>0.0</td>\n",
       "    </tr>\n",
       "    <tr>\n",
       "      <th>ABL2</th>\n",
       "      <td>74230</td>\n",
       "      <td>True</td>\n",
       "      <td>1002.0</td>\n",
       "      <td>0.493535</td>\n",
       "      <td>0.760715</td>\n",
       "      <td>1.170876</td>\n",
       "      <td>0.0</td>\n",
       "    </tr>\n",
       "    <tr>\n",
       "      <th>AC003092.1</th>\n",
       "      <td>36602</td>\n",
       "      <td>True</td>\n",
       "      <td>324.0</td>\n",
       "      <td>0.237562</td>\n",
       "      <td>0.475413</td>\n",
       "      <td>1.700979</td>\n",
       "      <td>0.0</td>\n",
       "    </tr>\n",
       "    <tr>\n",
       "      <th>...</th>\n",
       "      <td>...</td>\n",
       "      <td>...</td>\n",
       "      <td>...</td>\n",
       "      <td>...</td>\n",
       "      <td>...</td>\n",
       "      <td>...</td>\n",
       "      <td>...</td>\n",
       "    </tr>\n",
       "    <tr>\n",
       "      <th>ZNF665</th>\n",
       "      <td>2986</td>\n",
       "      <td>True</td>\n",
       "      <td>1287.0</td>\n",
       "      <td>0.014136</td>\n",
       "      <td>0.016789</td>\n",
       "      <td>1.118916</td>\n",
       "      <td>0.0</td>\n",
       "    </tr>\n",
       "    <tr>\n",
       "      <th>ZNF676</th>\n",
       "      <td>4255</td>\n",
       "      <td>True</td>\n",
       "      <td>1482.0</td>\n",
       "      <td>0.021282</td>\n",
       "      <td>0.024746</td>\n",
       "      <td>1.091299</td>\n",
       "      <td>0.0</td>\n",
       "    </tr>\n",
       "    <tr>\n",
       "      <th>ZNF723</th>\n",
       "      <td>2780</td>\n",
       "      <td>True</td>\n",
       "      <td>1071.0</td>\n",
       "      <td>0.014072</td>\n",
       "      <td>0.017268</td>\n",
       "      <td>1.156160</td>\n",
       "      <td>0.0</td>\n",
       "    </tr>\n",
       "    <tr>\n",
       "      <th>ZNF781</th>\n",
       "      <td>4637</td>\n",
       "      <td>True</td>\n",
       "      <td>1155.0</td>\n",
       "      <td>0.023639</td>\n",
       "      <td>0.028695</td>\n",
       "      <td>1.138998</td>\n",
       "      <td>0.0</td>\n",
       "    </tr>\n",
       "    <tr>\n",
       "      <th>ZWINT</th>\n",
       "      <td>101259</td>\n",
       "      <td>True</td>\n",
       "      <td>742.0</td>\n",
       "      <td>0.908099</td>\n",
       "      <td>1.806278</td>\n",
       "      <td>1.267132</td>\n",
       "      <td>0.0</td>\n",
       "    </tr>\n",
       "  </tbody>\n",
       "</table>\n",
       "<p>1657 rows × 7 columns</p>\n",
       "</div>"
      ],
      "text/plain": [
       "            n_cells  highly_variable  highly_variable_rank     means  \\\n",
       "ABCG2         43098             True                 713.0  0.270783   \n",
       "ABHD14B       63330             True                1215.0  0.412132   \n",
       "ABHD17C       34522             True                 638.0  0.206818   \n",
       "ABL2          74230             True                1002.0  0.493535   \n",
       "AC003092.1    36602             True                 324.0  0.237562   \n",
       "...             ...              ...                   ...       ...   \n",
       "ZNF665         2986             True                1287.0  0.014136   \n",
       "ZNF676         4255             True                1482.0  0.021282   \n",
       "ZNF723         2780             True                1071.0  0.014072   \n",
       "ZNF781         4637             True                1155.0  0.023639   \n",
       "ZWINT        101259             True                 742.0  0.908099   \n",
       "\n",
       "            variances  variances_norm  targeted  \n",
       "ABCG2        0.412499        1.280399       0.0  \n",
       "ABHD14B      0.593385        1.130482       0.0  \n",
       "ABHD17C      0.319366        1.328197       0.0  \n",
       "ABL2         0.760715        1.170876       0.0  \n",
       "AC003092.1   0.475413        1.700979       0.0  \n",
       "...               ...             ...       ...  \n",
       "ZNF665       0.016789        1.118916       0.0  \n",
       "ZNF676       0.024746        1.091299       0.0  \n",
       "ZNF723       0.017268        1.156160       0.0  \n",
       "ZNF781       0.028695        1.138998       0.0  \n",
       "ZWINT        1.806278        1.267132       0.0  \n",
       "\n",
       "[1657 rows x 7 columns]"
      ]
     },
     "execution_count": 7,
     "metadata": {},
     "output_type": "execute_result"
    }
   ],
   "source": [
    "adata.var"
   ]
  },
  {
   "cell_type": "code",
   "execution_count": 19,
   "metadata": {},
   "outputs": [
    {
     "data": {
      "text/plain": [
       "220"
      ]
     },
     "execution_count": 19,
     "metadata": {},
     "output_type": "execute_result"
    }
   ],
   "source": [
    "(adata.var.targeted != 0).sum() # what's difference btwn targeted and sgRNAs? \n",
    "# Answer: they're named slightly different things, not 1 to 1. but targets are in adata.var (targeted==1). which I believe means they should be absent."
   ]
  },
  {
   "cell_type": "code",
   "execution_count": 20,
   "metadata": {},
   "outputs": [
    {
     "data": {
      "text/html": [
       "<div>\n",
       "<style scoped>\n",
       "    .dataframe tbody tr th:only-of-type {\n",
       "        vertical-align: middle;\n",
       "    }\n",
       "\n",
       "    .dataframe tbody tr th {\n",
       "        vertical-align: top;\n",
       "    }\n",
       "\n",
       "    .dataframe thead th {\n",
       "        text-align: right;\n",
       "    }\n",
       "</style>\n",
       "<table border=\"1\" class=\"dataframe\">\n",
       "  <thead>\n",
       "    <tr style=\"text-align: right;\">\n",
       "      <th></th>\n",
       "      <th>n_cells</th>\n",
       "      <th>highly_variable</th>\n",
       "      <th>highly_variable_rank</th>\n",
       "      <th>means</th>\n",
       "      <th>variances</th>\n",
       "      <th>variances_norm</th>\n",
       "      <th>targeted</th>\n",
       "    </tr>\n",
       "  </thead>\n",
       "  <tbody>\n",
       "    <tr>\n",
       "      <th>ACSL3</th>\n",
       "      <td>161125</td>\n",
       "      <td>False</td>\n",
       "      <td>NaN</td>\n",
       "      <td>1.733973</td>\n",
       "      <td>3.038900</td>\n",
       "      <td>0.882086</td>\n",
       "      <td>1.0</td>\n",
       "    </tr>\n",
       "    <tr>\n",
       "      <th>ACTA2</th>\n",
       "      <td>3754</td>\n",
       "      <td>True</td>\n",
       "      <td>337.0</td>\n",
       "      <td>0.019250</td>\n",
       "      <td>0.034226</td>\n",
       "      <td>1.669910</td>\n",
       "      <td>1.0</td>\n",
       "    </tr>\n",
       "    <tr>\n",
       "      <th>AEBP1</th>\n",
       "      <td>37582</td>\n",
       "      <td>True</td>\n",
       "      <td>1704.0</td>\n",
       "      <td>0.210859</td>\n",
       "      <td>0.262286</td>\n",
       "      <td>1.068041</td>\n",
       "      <td>1.0</td>\n",
       "    </tr>\n",
       "    <tr>\n",
       "      <th>AGA</th>\n",
       "      <td>63916</td>\n",
       "      <td>False</td>\n",
       "      <td>NaN</td>\n",
       "      <td>0.372876</td>\n",
       "      <td>0.431955</td>\n",
       "      <td>0.925420</td>\n",
       "      <td>1.0</td>\n",
       "    </tr>\n",
       "    <tr>\n",
       "      <th>AHCY</th>\n",
       "      <td>127811</td>\n",
       "      <td>True</td>\n",
       "      <td>1496.0</td>\n",
       "      <td>1.205750</td>\n",
       "      <td>2.256406</td>\n",
       "      <td>1.089899</td>\n",
       "      <td>1.0</td>\n",
       "    </tr>\n",
       "    <tr>\n",
       "      <th>...</th>\n",
       "      <td>...</td>\n",
       "      <td>...</td>\n",
       "      <td>...</td>\n",
       "      <td>...</td>\n",
       "      <td>...</td>\n",
       "      <td>...</td>\n",
       "      <td>...</td>\n",
       "    </tr>\n",
       "    <tr>\n",
       "      <th>UQCRFS1</th>\n",
       "      <td>196461</td>\n",
       "      <td>False</td>\n",
       "      <td>NaN</td>\n",
       "      <td>3.526283</td>\n",
       "      <td>8.305203</td>\n",
       "      <td>0.804852</td>\n",
       "      <td>1.0</td>\n",
       "    </tr>\n",
       "    <tr>\n",
       "      <th>UQCRH</th>\n",
       "      <td>216201</td>\n",
       "      <td>False</td>\n",
       "      <td>NaN</td>\n",
       "      <td>13.605379</td>\n",
       "      <td>91.129983</td>\n",
       "      <td>0.849416</td>\n",
       "      <td>1.0</td>\n",
       "    </tr>\n",
       "    <tr>\n",
       "      <th>VAT1</th>\n",
       "      <td>118559</td>\n",
       "      <td>True</td>\n",
       "      <td>1354.0</td>\n",
       "      <td>1.055296</td>\n",
       "      <td>1.921199</td>\n",
       "      <td>1.108039</td>\n",
       "      <td>1.0</td>\n",
       "    </tr>\n",
       "    <tr>\n",
       "      <th>VDAC2</th>\n",
       "      <td>192268</td>\n",
       "      <td>False</td>\n",
       "      <td>NaN</td>\n",
       "      <td>3.367445</td>\n",
       "      <td>8.727812</td>\n",
       "      <td>0.911353</td>\n",
       "      <td>1.0</td>\n",
       "    </tr>\n",
       "    <tr>\n",
       "      <th>WBP2</th>\n",
       "      <td>81844</td>\n",
       "      <td>True</td>\n",
       "      <td>1864.0</td>\n",
       "      <td>0.555445</td>\n",
       "      <td>0.793935</td>\n",
       "      <td>1.055906</td>\n",
       "      <td>1.0</td>\n",
       "    </tr>\n",
       "  </tbody>\n",
       "</table>\n",
       "<p>220 rows × 7 columns</p>\n",
       "</div>"
      ],
      "text/plain": [
       "         n_cells  highly_variable  highly_variable_rank      means  variances  \\\n",
       "ACSL3     161125            False                   NaN   1.733973   3.038900   \n",
       "ACTA2       3754             True                 337.0   0.019250   0.034226   \n",
       "AEBP1      37582             True                1704.0   0.210859   0.262286   \n",
       "AGA        63916            False                   NaN   0.372876   0.431955   \n",
       "AHCY      127811             True                1496.0   1.205750   2.256406   \n",
       "...          ...              ...                   ...        ...        ...   \n",
       "UQCRFS1   196461            False                   NaN   3.526283   8.305203   \n",
       "UQCRH     216201            False                   NaN  13.605379  91.129983   \n",
       "VAT1      118559             True                1354.0   1.055296   1.921199   \n",
       "VDAC2     192268            False                   NaN   3.367445   8.727812   \n",
       "WBP2       81844             True                1864.0   0.555445   0.793935   \n",
       "\n",
       "         variances_norm  targeted  \n",
       "ACSL3          0.882086       1.0  \n",
       "ACTA2          1.669910       1.0  \n",
       "AEBP1          1.068041       1.0  \n",
       "AGA            0.925420       1.0  \n",
       "AHCY           1.089899       1.0  \n",
       "...                 ...       ...  \n",
       "UQCRFS1        0.804852       1.0  \n",
       "UQCRH          0.849416       1.0  \n",
       "VAT1           1.108039       1.0  \n",
       "VDAC2          0.911353       1.0  \n",
       "WBP2           1.055906       1.0  \n",
       "\n",
       "[220 rows x 7 columns]"
      ]
     },
     "execution_count": 20,
     "metadata": {},
     "output_type": "execute_result"
    }
   ],
   "source": [
    "adata.var[adata.var.targeted != 0]"
   ]
  },
  {
   "cell_type": "code",
   "execution_count": 23,
   "metadata": {},
   "outputs": [
    {
     "data": {
      "text/plain": [
       "Index(['CD47'], dtype='object')"
      ]
     },
     "execution_count": 23,
     "metadata": {},
     "output_type": "execute_result"
    }
   ],
   "source": [
    "adata.var.index[adata.var.index==\"CD47\"]"
   ]
  },
  {
   "cell_type": "code",
   "execution_count": 24,
   "metadata": {},
   "outputs": [
    {
     "name": "stdout",
     "output_type": "stream",
     "text": [
      "0 ABCG2\n"
     ]
    }
   ],
   "source": [
    "for i, gene in enumerate(adata.var.index):\n",
    "    print(i, gene)\n",
    "    break"
   ]
  },
  {
   "cell_type": "code",
   "execution_count": 8,
   "metadata": {},
   "outputs": [
    {
     "data": {
      "text/html": [
       "<div>\n",
       "<style scoped>\n",
       "    .dataframe tbody tr th:only-of-type {\n",
       "        vertical-align: middle;\n",
       "    }\n",
       "\n",
       "    .dataframe tbody tr th {\n",
       "        vertical-align: top;\n",
       "    }\n",
       "\n",
       "    .dataframe thead th {\n",
       "        text-align: right;\n",
       "    }\n",
       "</style>\n",
       "<table border=\"1\" class=\"dataframe\">\n",
       "  <thead>\n",
       "    <tr style=\"text-align: right;\">\n",
       "      <th></th>\n",
       "      <th>library_preparation_protocol</th>\n",
       "      <th>condition</th>\n",
       "      <th>MOI</th>\n",
       "      <th>sgRNA</th>\n",
       "      <th>UMI_count</th>\n",
       "      <th>sgRNAs</th>\n",
       "      <th>n_genes</th>\n",
       "      <th>targets</th>\n",
       "      <th>regimes</th>\n",
       "    </tr>\n",
       "    <tr>\n",
       "      <th>NAME</th>\n",
       "      <th></th>\n",
       "      <th></th>\n",
       "      <th></th>\n",
       "      <th></th>\n",
       "      <th></th>\n",
       "      <th></th>\n",
       "      <th></th>\n",
       "      <th></th>\n",
       "      <th></th>\n",
       "    </tr>\n",
       "  </thead>\n",
       "  <tbody>\n",
       "    <tr>\n",
       "      <th>CELL_48584</th>\n",
       "      <td>10X 3' v3 sequencing</td>\n",
       "      <td>Control</td>\n",
       "      <td>1</td>\n",
       "      <td>APOD_2</td>\n",
       "      <td>11119.0</td>\n",
       "      <td>APOD_2</td>\n",
       "      <td>3510</td>\n",
       "      <td></td>\n",
       "      <td>0</td>\n",
       "    </tr>\n",
       "    <tr>\n",
       "      <th>CELL_138234</th>\n",
       "      <td>10X 3' v3 sequencing</td>\n",
       "      <td>IFNγ</td>\n",
       "      <td>1</td>\n",
       "      <td>PPIA_1</td>\n",
       "      <td>6278.0</td>\n",
       "      <td>PPIA_1</td>\n",
       "      <td>2348</td>\n",
       "      <td>PPIA</td>\n",
       "      <td>24772</td>\n",
       "    </tr>\n",
       "    <tr>\n",
       "      <th>CELL_62035</th>\n",
       "      <td>10X 3' v3 sequencing</td>\n",
       "      <td>IFNγ</td>\n",
       "      <td>1</td>\n",
       "      <td>CD47_3</td>\n",
       "      <td>6996.0</td>\n",
       "      <td>CD47_3</td>\n",
       "      <td>2481</td>\n",
       "      <td>CD47</td>\n",
       "      <td>6995</td>\n",
       "    </tr>\n",
       "    <tr>\n",
       "      <th>CELL_59062</th>\n",
       "      <td>10X 3' v3 sequencing</td>\n",
       "      <td>IFNγ</td>\n",
       "      <td>1</td>\n",
       "      <td>ONE_NON-GENE_SITE_217</td>\n",
       "      <td>8089.0</td>\n",
       "      <td>ONE_NON-GENE_SITE_217</td>\n",
       "      <td>2536</td>\n",
       "      <td></td>\n",
       "      <td>0</td>\n",
       "    </tr>\n",
       "    <tr>\n",
       "      <th>CELL_30040</th>\n",
       "      <td>10X 3' v3 sequencing</td>\n",
       "      <td>Control</td>\n",
       "      <td>1</td>\n",
       "      <td>ACSL3_2</td>\n",
       "      <td>15369.0</td>\n",
       "      <td>ACSL3_2</td>\n",
       "      <td>4007</td>\n",
       "      <td>ACSL3</td>\n",
       "      <td>1</td>\n",
       "    </tr>\n",
       "    <tr>\n",
       "      <th>CELL_155732</th>\n",
       "      <td>10X 3' v3 sequencing</td>\n",
       "      <td>Co-culture</td>\n",
       "      <td>4</td>\n",
       "      <td>NaN</td>\n",
       "      <td>11053.0</td>\n",
       "      <td>CDKN1A_2,KDR_2,PFN1_3,STX7_1</td>\n",
       "      <td>3428</td>\n",
       "      <td>CDKN1A,KDR,PFN1,STX7</td>\n",
       "      <td>9073</td>\n",
       "    </tr>\n",
       "    <tr>\n",
       "      <th>CELL_128914</th>\n",
       "      <td>10X 3' v3 sequencing</td>\n",
       "      <td>IFNγ</td>\n",
       "      <td>2</td>\n",
       "      <td>NaN</td>\n",
       "      <td>21224.0</td>\n",
       "      <td>C6orf226_3,SET_2</td>\n",
       "      <td>4563</td>\n",
       "      <td>C6orf226,SET</td>\n",
       "      <td>5190</td>\n",
       "    </tr>\n",
       "    <tr>\n",
       "      <th>CELL_172284</th>\n",
       "      <td>10X 3' v3 sequencing</td>\n",
       "      <td>Co-culture</td>\n",
       "      <td>1</td>\n",
       "      <td>IDI2-AS1_3</td>\n",
       "      <td>10042.0</td>\n",
       "      <td>IDI2-AS1_3</td>\n",
       "      <td>3170</td>\n",
       "      <td></td>\n",
       "      <td>0</td>\n",
       "    </tr>\n",
       "    <tr>\n",
       "      <th>CELL_86554</th>\n",
       "      <td>10X 3' v3 sequencing</td>\n",
       "      <td>IFNγ</td>\n",
       "      <td>1</td>\n",
       "      <td>ST6GALNAC2_2</td>\n",
       "      <td>19372.0</td>\n",
       "      <td>ST6GALNAC2_2</td>\n",
       "      <td>4149</td>\n",
       "      <td></td>\n",
       "      <td>0</td>\n",
       "    </tr>\n",
       "    <tr>\n",
       "      <th>CELL_154052</th>\n",
       "      <td>10X 3' v3 sequencing</td>\n",
       "      <td>Co-culture</td>\n",
       "      <td>1</td>\n",
       "      <td>GPNMB_2</td>\n",
       "      <td>10922.0</td>\n",
       "      <td>GPNMB_2</td>\n",
       "      <td>3137</td>\n",
       "      <td>GPNMB</td>\n",
       "      <td>18142</td>\n",
       "    </tr>\n",
       "  </tbody>\n",
       "</table>\n",
       "</div>"
      ],
      "text/plain": [
       "            library_preparation_protocol   condition  MOI  \\\n",
       "NAME                                                        \n",
       "CELL_48584          10X 3' v3 sequencing     Control    1   \n",
       "CELL_138234         10X 3' v3 sequencing        IFNγ    1   \n",
       "CELL_62035          10X 3' v3 sequencing        IFNγ    1   \n",
       "CELL_59062          10X 3' v3 sequencing        IFNγ    1   \n",
       "CELL_30040          10X 3' v3 sequencing     Control    1   \n",
       "CELL_155732         10X 3' v3 sequencing  Co-culture    4   \n",
       "CELL_128914         10X 3' v3 sequencing        IFNγ    2   \n",
       "CELL_172284         10X 3' v3 sequencing  Co-culture    1   \n",
       "CELL_86554          10X 3' v3 sequencing        IFNγ    1   \n",
       "CELL_154052         10X 3' v3 sequencing  Co-culture    1   \n",
       "\n",
       "                             sgRNA  UMI_count                        sgRNAs  \\\n",
       "NAME                                                                          \n",
       "CELL_48584                  APOD_2    11119.0                        APOD_2   \n",
       "CELL_138234                 PPIA_1     6278.0                        PPIA_1   \n",
       "CELL_62035                  CD47_3     6996.0                        CD47_3   \n",
       "CELL_59062   ONE_NON-GENE_SITE_217     8089.0         ONE_NON-GENE_SITE_217   \n",
       "CELL_30040                 ACSL3_2    15369.0                       ACSL3_2   \n",
       "CELL_155732                    NaN    11053.0  CDKN1A_2,KDR_2,PFN1_3,STX7_1   \n",
       "CELL_128914                    NaN    21224.0              C6orf226_3,SET_2   \n",
       "CELL_172284             IDI2-AS1_3    10042.0                    IDI2-AS1_3   \n",
       "CELL_86554            ST6GALNAC2_2    19372.0                  ST6GALNAC2_2   \n",
       "CELL_154052                GPNMB_2    10922.0                       GPNMB_2   \n",
       "\n",
       "             n_genes               targets  regimes  \n",
       "NAME                                                 \n",
       "CELL_48584      3510                              0  \n",
       "CELL_138234     2348                  PPIA    24772  \n",
       "CELL_62035      2481                  CD47     6995  \n",
       "CELL_59062      2536                              0  \n",
       "CELL_30040      4007                 ACSL3        1  \n",
       "CELL_155732     3428  CDKN1A,KDR,PFN1,STX7     9073  \n",
       "CELL_128914     4563          C6orf226,SET     5190  \n",
       "CELL_172284     3170                              0  \n",
       "CELL_86554      4149                              0  \n",
       "CELL_154052     3137                 GPNMB    18142  "
      ]
     },
     "execution_count": 8,
     "metadata": {},
     "output_type": "execute_result"
    }
   ],
   "source": [
    "adata.obs"
   ]
  },
  {
   "cell_type": "code",
   "execution_count": 9,
   "metadata": {},
   "outputs": [
    {
     "data": {
      "text/plain": [
       "(10, 9)"
      ]
     },
     "execution_count": 9,
     "metadata": {},
     "output_type": "execute_result"
    }
   ],
   "source": [
    "adata.obs.shape"
   ]
  },
  {
   "cell_type": "code",
   "execution_count": 10,
   "metadata": {},
   "outputs": [
    {
     "data": {
      "text/plain": [
       "<10x1657 sparse matrix of type '<class 'numpy.float64'>'\n",
       "\twith 5535 stored elements in Compressed Sparse Row format>"
      ]
     },
     "execution_count": 10,
     "metadata": {},
     "output_type": "execute_result"
    }
   ],
   "source": [
    "adata.layers[\"counts\"]"
   ]
  },
  {
   "cell_type": "markdown",
   "metadata": {},
   "source": [
    "What are the various data passed into the model?\n",
    "\n",
    "- data: `adata.layers[\"counts\"]` (unnorm) or `adata.X` (norm); shape=`N_datapoints x N_genes_measured` sparse matrix\n",
    "- masks: indices of targets from `adata.obs`, into `adata.var`; shape=`N_datapoints x variable length?` -- for each dp, list of targets\n",
    "- regimes: `adata.obs[\"regimes\"]`; shape=`N_datapoints`\n",
    "- adata: whole data file as above."
   ]
  },
  {
   "cell_type": "code",
   "execution_count": null,
   "metadata": {},
   "outputs": [],
   "source": []
  }
 ],
 "metadata": {
  "kernelspec": {
   "display_name": "cgd",
   "language": "python",
   "name": "cgd"
  },
  "language_info": {
   "codemirror_mode": {
    "name": "ipython",
    "version": 3
   },
   "file_extension": ".py",
   "mimetype": "text/x-python",
   "name": "python",
   "nbconvert_exporter": "python",
   "pygments_lexer": "ipython3",
   "version": "3.9.15"
  },
  "vscode": {
   "interpreter": {
    "hash": "76b44b1b6b011050dce1bd141c94a7ee8f290b23a345131bb8f4754d0341dc5e"
   }
  }
 },
 "nbformat": 4,
 "nbformat_minor": 4
}
